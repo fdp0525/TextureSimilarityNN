{
 "cells": [
  {
   "cell_type": "code",
   "execution_count": 1,
   "outputs": [],
   "source": [
    "import cv2\n",
    "import numpy as np\n",
    "import torch\n",
    "from model_factory import prepare_model\n",
    "from torch.utils.data import DataLoader\n",
    "from tqdm import tqdm\n",
    "%matplotlib inline\n",
    "import matplotlib.pyplot as plt\n",
    "import plotly.express as px\n",
    "import os\n",
    "os.environ[\"WANDB_MODE\"]='offline'\n",
    "import wandb\n",
    "\n",
    "from architectures.SiameseSimple import SiameseSimple\n",
    "from dataset_io import SimilarityDataset\n",
    "\n",
    "from metrics import tpr_fpr, plot_ROC"
   ],
   "metadata": {
    "collapsed": false,
    "pycharm": {
     "name": "#%%\n"
    }
   }
  },
  {
   "cell_type": "code",
   "execution_count": 31,
   "outputs": [
    {
     "data": {
      "text/plain": "<IPython.core.display.HTML object>",
      "text/html": "<br/>Waiting for W&B process to finish, PID 13652<br/>Program ended successfully."
     },
     "metadata": {},
     "output_type": "display_data"
    },
    {
     "data": {
      "text/plain": "<IPython.core.display.HTML object>",
      "text/html": "Find user logs for this run at: <code>C:\\Repositories\\PythonRepos\\TexSim2018\\wandb\\offline-run-20210512_230353-1h3jkpg1\\logs\\debug.log</code>"
     },
     "metadata": {},
     "output_type": "display_data"
    },
    {
     "data": {
      "text/plain": "<IPython.core.display.HTML object>",
      "text/html": "Find internal logs for this run at: <code>C:\\Repositories\\PythonRepos\\TexSim2018\\wandb\\offline-run-20210512_230353-1h3jkpg1\\logs\\debug-internal.log</code>"
     },
     "metadata": {},
     "output_type": "display_data"
    },
    {
     "name": "stderr",
     "output_type": "stream",
     "text": [
      "wandb: You can sync this run to the cloud by running:\n",
      "wandb: wandb sync C:\\Repositories\\PythonRepos\\TexSim2018\\wandb\\offline-run-20210512_230353-1h3jkpg1\n"
     ]
    },
    {
     "name": "stdout",
     "output_type": "stream",
     "text": [
      "Using cuda device\n"
     ]
    },
    {
     "name": "stderr",
     "output_type": "stream",
     "text": [
      "wandb: W&B syncing is set to `offline` in this directory.  Run `wandb online` or set WANDB_MODE=online to enable cloud syncing.\n"
     ]
    }
   ],
   "source": [
    "try:\n",
    "    wandb.finish()\n",
    "except:\n",
    "    \"No wandb instance to close, continue to start new\"\n",
    "\n",
    "device = 'cuda' if torch.cuda.is_available() else 'cpu'\n",
    "print(f'Using {device.format(device)} device')\n",
    "\n",
    "wandb.init(project=\"texsim2018\", entity='shamann', group='FirstTraining', config={\n",
    "    \"image_size\":(1,150,150),\n",
    "    \"batch_size\": 32,\n",
    "    \"architecture\": \"SiameseNetworkLeaky_tiny\",\n",
    "    \"dataset\": \"SimTex2018\",\n",
    "    \"max_images\":8,\n",
    "    \"max_samples\":16\n",
    "})\n",
    "config = wandb.config"
   ],
   "metadata": {
    "collapsed": false,
    "pycharm": {
     "name": "#%%\n"
    }
   }
  },
  {
   "cell_type": "code",
   "execution_count": 34,
   "outputs": [
    {
     "name": "stdout",
     "output_type": "stream",
     "text": [
      "Loaded model: models/Train_on100x16imagesLeaky_e50_b32_lr0.002/model_SiameseNetworkLeaky_tiny-e_027-b_000.h5\n"
     ]
    }
   ],
   "source": [
    "training_desc = 'Train_on100x16imagesLeaky_e50_b32_lr0.002/'\n",
    "models_root = 'models/'+training_desc\n",
    "model, model_name, _ = prepare_model(SiameseSimple, models_root, device)"
   ],
   "metadata": {
    "collapsed": false,
    "pycharm": {
     "name": "#%%\n"
    }
   }
  },
  {
   "cell_type": "code",
   "execution_count": 14,
   "outputs": [
    {
     "name": "stderr",
     "output_type": "stream",
     "text": [
      "Data: 100%|██████████| 52/52 [00:01<00:00, 35.15it/s]\n"
     ]
    }
   ],
   "source": [
    "test_data = SimilarityDataset('data/test', max_samples=config.max_samples, max_images=config.max_images)"
   ],
   "metadata": {
    "collapsed": false,
    "pycharm": {
     "name": "#%%\n"
    }
   }
  },
  {
   "cell_type": "code",
   "execution_count": 16,
   "outputs": [],
   "source": [
    "test_data.reset()\n"
   ],
   "metadata": {
    "collapsed": false,
    "pycharm": {
     "name": "#%%\n"
    }
   }
  },
  {
   "cell_type": "code",
   "execution_count": 17,
   "outputs": [
    {
     "name": "stdout",
     "output_type": "stream",
     "text": [
      "data/test\\pexels-photo-113338.jpg\n",
      "data/test\\pexels-photo-122458.jpg\n",
      "data/test\\pexels-photo-127567.jpg\n",
      "data/test\\pexels-photo-129722.jpg\n",
      "data/test\\pexels-photo-129723.jpg\n",
      "data/test\\pexels-photo-129731.jpg\n",
      "data/test\\pexels-photo-159062.jpg\n",
      "data/test\\pexels-photo-161690.jpg\n"
     ]
    }
   ],
   "source": [
    "samples_predicted = []\n",
    "for i in range(config.max_images):\n",
    "    all_samples = test_data.get_samples(i)\n",
    "    print(test_data.image_names[i])\n",
    "    embeddings = model.forward_branch(all_samples.to(device))\n",
    "    labels = np.zeros((len(embeddings),1),dtype=np.int32) + i\n",
    "    embeddings = torch.squeeze(embeddings)\n",
    "    samples_predicted.append(np.concatenate((labels,embeddings.to('cpu').detach().numpy()),axis=1))"
   ],
   "metadata": {
    "collapsed": false,
    "pycharm": {
     "name": "#%%\n"
    }
   }
  },
  {
   "cell_type": "code",
   "execution_count": 61,
   "outputs": [
    {
     "data": {
      "text/plain": "8"
     },
     "execution_count": 61,
     "metadata": {},
     "output_type": "execute_result"
    }
   ],
   "source": [
    "len(samples_predicted)"
   ],
   "metadata": {
    "collapsed": false,
    "pycharm": {
     "name": "#%%\n"
    }
   }
  },
  {
   "cell_type": "code",
   "execution_count": 18,
   "outputs": [],
   "source": [
    "samples = np.concatenate(samples_predicted, axis=0)"
   ],
   "metadata": {
    "collapsed": false,
    "pycharm": {
     "name": "#%%\n"
    }
   }
  },
  {
   "cell_type": "code",
   "execution_count": 19,
   "outputs": [
    {
     "data": {
      "text/plain": "array([[ 0.        , -0.4806869 , -0.75317574,  0.75575924],\n       [ 0.        , -0.27768335, -1.71011651,  0.05538362],\n       [ 0.        , -0.30955839, -0.24584015, -1.01961696],\n       [ 0.        , -0.11577733,  0.65736216, -0.0425691 ],\n       [ 0.        ,  0.30107415,  1.12218881, -0.07268535],\n       [ 0.        , -1.08256161,  0.99108624, -0.69255036],\n       [ 0.        ,  0.24984951,  0.58601815, -0.471452  ],\n       [ 0.        , -0.62093329, -0.11119739,  0.11521887],\n       [ 0.        ,  0.08623673,  0.44652587, -0.03651581],\n       [ 0.        ,  0.29889816, -0.23550539,  0.81086731]])"
     },
     "execution_count": 19,
     "metadata": {},
     "output_type": "execute_result"
    }
   ],
   "source": [
    "samples[:10,:]"
   ],
   "metadata": {
    "collapsed": false,
    "pycharm": {
     "name": "#%%\n"
    }
   }
  },
  {
   "cell_type": "code",
   "execution_count": 20,
   "outputs": [
    {
     "data": {
      "application/vnd.plotly.v1+json": {
       "config": {
        "plotlyServerURL": "https://plot.ly"
       },
       "data": [
        {
         "hovertemplate": "x=%{x}<br>y=%{y}<br>z=%{z}<br>color=%{marker.color}<extra></extra>",
         "legendgroup": "",
         "marker": {
          "color": [
           0.0,
           0.0,
           0.0,
           0.0,
           0.0,
           0.0,
           0.0,
           0.0,
           0.0,
           0.0,
           0.0,
           0.0,
           0.0,
           0.0,
           0.0,
           1.0,
           1.0,
           1.0,
           1.0,
           1.0,
           1.0,
           1.0,
           1.0,
           1.0,
           1.0,
           1.0,
           1.0,
           1.0,
           1.0,
           1.0,
           2.0,
           2.0,
           2.0,
           2.0,
           2.0,
           2.0,
           2.0,
           2.0,
           2.0,
           2.0,
           2.0,
           2.0,
           2.0,
           2.0,
           2.0,
           3.0,
           3.0,
           3.0,
           3.0,
           3.0,
           3.0,
           3.0,
           3.0,
           3.0,
           3.0,
           3.0,
           3.0,
           3.0,
           3.0,
           3.0,
           4.0,
           4.0,
           4.0,
           4.0,
           4.0,
           4.0,
           4.0,
           4.0,
           4.0,
           4.0,
           4.0,
           4.0,
           4.0,
           4.0,
           4.0,
           5.0,
           5.0,
           5.0,
           5.0,
           5.0,
           5.0,
           5.0,
           5.0,
           5.0,
           5.0,
           5.0,
           5.0,
           5.0,
           5.0,
           5.0,
           6.0,
           6.0,
           6.0,
           6.0,
           6.0,
           6.0,
           6.0,
           6.0,
           6.0,
           6.0,
           6.0,
           6.0,
           6.0,
           6.0,
           6.0,
           7.0,
           7.0,
           7.0,
           7.0,
           7.0,
           7.0,
           7.0,
           7.0,
           7.0,
           7.0,
           7.0,
           7.0,
           7.0,
           7.0,
           7.0
          ],
          "coloraxis": "coloraxis",
          "opacity": 0.5,
          "symbol": "circle"
         },
         "mode": "markers",
         "name": "",
         "scene": "scene",
         "showlegend": false,
         "type": "scatter3d",
         "x": [
          -0.48068690299987793,
          -0.2776833474636078,
          -0.3095583915710449,
          -0.11577732861042023,
          0.30107414722442627,
          -1.0825616121292114,
          0.24984951317310333,
          -0.6209332942962646,
          0.08623673021793365,
          0.2988981604576111,
          0.11638852953910828,
          0.008178666234016418,
          0.061987727880477905,
          0.932685911655426,
          -0.26664143800735474,
          0.5973087549209595,
          0.5024865865707397,
          -0.4574991464614868,
          -0.2816311717033386,
          0.3803322911262512,
          -0.4775899648666382,
          -0.28182125091552734,
          -1.0519673824310303,
          0.5655307173728943,
          0.7768396139144897,
          0.3321376442909241,
          -1.1489441394805908,
          -0.2937281131744385,
          0.06800885498523712,
          -0.328006386756897,
          -0.007161229848861694,
          0.23065726459026337,
          0.24543248116970062,
          -0.3469839096069336,
          -0.26182714104652405,
          0.7894192934036255,
          -0.2758788466453552,
          -0.8267462253570557,
          -0.27686721086502075,
          -0.6105080246925354,
          0.44218558073043823,
          -0.1924304962158203,
          -0.06259264796972275,
          -0.4166713356971741,
          0.4714299440383911,
          -0.2266220897436142,
          -0.35645925998687744,
          -0.426750123500824,
          -0.2069462239742279,
          0.03755667805671692,
          -0.45601093769073486,
          -0.11550789326429367,
          -0.3249306082725525,
          0.5534775853157043,
          0.4603015184402466,
          0.8590500354766846,
          -0.30450284481048584,
          -0.5363824963569641,
          0.04590514302253723,
          -0.10072121024131775,
          0.6231229305267334,
          -1.1826750040054321,
          0.18762533366680145,
          1.1127190589904785,
          0.35595911741256714,
          -0.14018496870994568,
          0.014431022107601166,
          0.028069205582141876,
          0.4745206832885742,
          -0.23353900015354156,
          -0.7971709966659546,
          0.2526686191558838,
          -0.432104229927063,
          -0.38572317361831665,
          -0.9762610793113708,
          -0.10591726005077362,
          0.2950618267059326,
          0.5295188426971436,
          0.2114388793706894,
          -0.38788557052612305,
          -1.009131669998169,
          0.7301794290542603,
          -0.7299150824546814,
          -0.5318427085876465,
          -0.04946081340312958,
          0.05593506991863251,
          0.6601201891899109,
          -0.3264268636703491,
          0.35130834579467773,
          -0.7915255427360535,
          0.2323625534772873,
          -0.11542418599128723,
          0.30828261375427246,
          0.7473598122596741,
          -0.591902494430542,
          0.13601315021514893,
          0.045712344348430634,
          -0.2864592671394348,
          0.366952121257782,
          -0.5349847674369812,
          0.4927201271057129,
          -0.544114887714386,
          -0.20388077199459076,
          -0.5199844837188721,
          -0.6311951279640198,
          -1.161851406097412,
          -0.3190980553627014,
          0.09273765981197357,
          0.545995831489563,
          -0.019467897713184357,
          -0.3735976815223694,
          0.46742701530456543,
          -0.41285836696624756,
          0.057517677545547485,
          0.22416721284389496,
          -0.2237250804901123,
          0.71646648645401,
          -0.22194531559944153,
          -0.20688509941101074,
          -0.2634257674217224
         ],
         "y": [
          -0.7531757354736328,
          -1.7101165056228638,
          -0.2458401471376419,
          0.657362163066864,
          1.1221888065338135,
          0.9910862445831299,
          0.5860181450843811,
          -0.11119738966226578,
          0.4465258717536926,
          -0.2355053871870041,
          0.43378251791000366,
          -0.11016149818897247,
          -1.0730866193771362,
          0.18989621102809906,
          0.014477001503109932,
          -0.5371680855751038,
          0.175310418009758,
          -1.3727437257766724,
          1.0356435775756836,
          0.8626686930656433,
          1.0599156618118286,
          -1.5145294666290283,
          -0.23978175222873688,
          0.6287431716918945,
          0.5662768483161926,
          -0.5392926335334778,
          -0.4856415390968323,
          -1.3546698093414307,
          1.058366298675537,
          0.8591559529304504,
          -0.023726142942905426,
          -0.889506995677948,
          -0.46627604961395264,
          0.15623684227466583,
          -0.3131106495857239,
          0.5953088402748108,
          0.3106624484062195,
          0.5789620280265808,
          0.2772051692008972,
          0.664777934551239,
          -0.36997348070144653,
          0.298453688621521,
          -0.6990005970001221,
          0.3358025550842285,
          -0.2535616159439087,
          -0.13247384130954742,
          -0.11810730397701263,
          -0.20114558935165405,
          0.8315000534057617,
          0.02262561395764351,
          -0.34763479232788086,
          0.5620325207710266,
          0.6476106643676758,
          -0.7536652684211731,
          -1.3911610841751099,
          -0.028181470930576324,
          0.22704076766967773,
          -0.4702746272087097,
          0.7837576866149902,
          0.5703299641609192,
          -0.15149982273578644,
          1.1402510404586792,
          0.430240273475647,
          -1.2328948974609375,
          0.03471303731203079,
          -0.6313256621360779,
          -0.27258312702178955,
          -0.27294695377349854,
          -0.41915225982666016,
          0.803943932056427,
          -0.17012815177440643,
          -1.222894310951233,
          0.26932692527770996,
          0.7982503771781921,
          1.0989528894424438,
          -0.33026832342147827,
          -1.1459649801254272,
          -0.4617079496383667,
          -0.6124290227890015,
          0.6509518623352051,
          0.5243287086486816,
          0.5230621099472046,
          -0.32084476947784424,
          0.16552764177322388,
          0.29059720039367676,
          -0.3929619789123535,
          -0.07600292563438416,
          0.5474646091461182,
          0.4716566801071167,
          0.36884403228759766,
          0.3608124852180481,
          0.271126925945282,
          0.9215707182884216,
          0.40684008598327637,
          0.7843977808952332,
          0.3321800231933594,
          -2.724189519882202,
          -0.10716534405946732,
          0.11862151324748993,
          0.2618168294429779,
          -0.07171092927455902,
          -0.18504159152507782,
          0.3419550657272339,
          -0.02734265848994255,
          -0.481616735458374,
          0.736029863357544,
          -0.8742019534111023,
          0.9705603122711182,
          0.9243012070655823,
          0.3551591634750366,
          0.6351303458213806,
          0.5408463478088379,
          -0.5831944942474365,
          -0.8659213185310364,
          -1.08303701877594,
          -1.5544090270996094,
          0.1671680063009262,
          -0.785577118396759,
          1.1735920906066895,
          0.44580692052841187
         ],
         "z": [
          0.7557592391967773,
          0.05538362264633179,
          -1.019616961479187,
          -0.042569104582071304,
          -0.0726853460073471,
          -0.6925503611564636,
          -0.471451997756958,
          0.1152188703417778,
          -0.03651580959558487,
          0.8108673095703125,
          -0.35567960143089294,
          0.49970996379852295,
          0.15709617733955383,
          -0.47609055042266846,
          0.31039077043533325,
          -0.13284899294376373,
          -0.7295360565185547,
          -0.8538019061088562,
          0.1957135796546936,
          0.3266639709472656,
          -0.36732053756713867,
          -0.5440752506256104,
          0.15163278579711914,
          0.3953482210636139,
          -0.4456726014614105,
          0.006730496883392334,
          0.9757705330848694,
          0.6777646541595459,
          -0.24685880541801453,
          0.12775659561157227,
          0.16504284739494324,
          0.06377564370632172,
          -0.49342361092567444,
          -0.02205682173371315,
          0.2814555764198303,
          -0.3481697142124176,
          0.6864017844200134,
          -0.7426650524139404,
          0.33104097843170166,
          -0.6665389537811279,
          -0.26023411750793457,
          -0.18216100335121155,
          0.6826156973838806,
          0.35810336470603943,
          -0.3159199357032776,
          -0.09429998695850372,
          -0.2843646705150604,
          -0.020521605387330055,
          0.3075917363166809,
          0.6867773532867432,
          -0.40452978014945984,
          0.5029202103614807,
          -0.1985313892364502,
          0.483334481716156,
          0.45224201679229736,
          -0.5083708763122559,
          -0.16826069355010986,
          -0.7509928941726685,
          -0.27558454871177673,
          -0.19014301896095276,
          0.5268962979316711,
          -0.7148127555847168,
          -0.013680331408977509,
          -0.48667702078819275,
          0.5925754904747009,
          0.41229113936424255,
          0.39801082015037537,
          0.496662974357605,
          -0.2691638767719269,
          0.043029144406318665,
          -1.0047107934951782,
          -0.18202373385429382,
          1.0929884910583496,
          -0.7772976756095886,
          -0.5768219828605652,
          -0.20744860172271729,
          -0.028932133689522743,
          0.5580067038536072,
          -0.32368916273117065,
          0.6066416501998901,
          -0.992805004119873,
          0.4020729660987854,
          -1.199230432510376,
          0.5255386829376221,
          -0.32295066118240356,
          0.2771393060684204,
          -0.35838690400123596,
          0.236260324716568,
          -0.1638980209827423,
          0.5289474725723267,
          -0.9047365784645081,
          0.2716326415538788,
          -0.6334735155105591,
          -1.2253292798995972,
          -0.7543562650680542,
          -0.1835004687309265,
          -0.6915704607963562,
          0.8584560751914978,
          -0.7167319059371948,
          0.4906865358352661,
          0.05425538122653961,
          0.7593488693237305,
          0.4418829679489136,
          1.0329006910324097,
          0.7378023266792297,
          0.3543676733970642,
          -1.1510525941848755,
          0.1881176233291626,
          0.018226109445095062,
          -0.2972303032875061,
          0.6075663566589355,
          0.3608970046043396,
          0.06224333494901657,
          -0.13671395182609558,
          0.06933465600013733,
          -1.1509275436401367,
          0.5081973075866699,
          -0.841062605381012,
          0.15751072764396667,
          0.7877930998802185
         ]
        }
       ],
       "layout": {
        "coloraxis": {
         "colorbar": {
          "title": {
           "text": "color"
          }
         },
         "colorscale": [
          [
           0.0,
           "#0d0887"
          ],
          [
           0.1111111111111111,
           "#46039f"
          ],
          [
           0.2222222222222222,
           "#7201a8"
          ],
          [
           0.3333333333333333,
           "#9c179e"
          ],
          [
           0.4444444444444444,
           "#bd3786"
          ],
          [
           0.5555555555555556,
           "#d8576b"
          ],
          [
           0.6666666666666666,
           "#ed7953"
          ],
          [
           0.7777777777777778,
           "#fb9f3a"
          ],
          [
           0.8888888888888888,
           "#fdca26"
          ],
          [
           1.0,
           "#f0f921"
          ]
         ]
        },
        "legend": {
         "tracegroupgap": 0
        },
        "scene": {
         "domain": {
          "x": [
           0.0,
           1.0
          ],
          "y": [
           0.0,
           1.0
          ]
         },
         "xaxis": {
          "title": {
           "text": "x"
          }
         },
         "yaxis": {
          "title": {
           "text": "y"
          }
         },
         "zaxis": {
          "title": {
           "text": "z"
          }
         }
        },
        "template": {
         "data": {
          "bar": [
           {
            "error_x": {
             "color": "#2a3f5f"
            },
            "error_y": {
             "color": "#2a3f5f"
            },
            "marker": {
             "line": {
              "color": "#E5ECF6",
              "width": 0.5
             }
            },
            "type": "bar"
           }
          ],
          "barpolar": [
           {
            "marker": {
             "line": {
              "color": "#E5ECF6",
              "width": 0.5
             }
            },
            "type": "barpolar"
           }
          ],
          "carpet": [
           {
            "aaxis": {
             "endlinecolor": "#2a3f5f",
             "gridcolor": "white",
             "linecolor": "white",
             "minorgridcolor": "white",
             "startlinecolor": "#2a3f5f"
            },
            "baxis": {
             "endlinecolor": "#2a3f5f",
             "gridcolor": "white",
             "linecolor": "white",
             "minorgridcolor": "white",
             "startlinecolor": "#2a3f5f"
            },
            "type": "carpet"
           }
          ],
          "choropleth": [
           {
            "colorbar": {
             "outlinewidth": 0,
             "ticks": ""
            },
            "type": "choropleth"
           }
          ],
          "contour": [
           {
            "colorbar": {
             "outlinewidth": 0,
             "ticks": ""
            },
            "colorscale": [
             [
              0.0,
              "#0d0887"
             ],
             [
              0.1111111111111111,
              "#46039f"
             ],
             [
              0.2222222222222222,
              "#7201a8"
             ],
             [
              0.3333333333333333,
              "#9c179e"
             ],
             [
              0.4444444444444444,
              "#bd3786"
             ],
             [
              0.5555555555555556,
              "#d8576b"
             ],
             [
              0.6666666666666666,
              "#ed7953"
             ],
             [
              0.7777777777777778,
              "#fb9f3a"
             ],
             [
              0.8888888888888888,
              "#fdca26"
             ],
             [
              1.0,
              "#f0f921"
             ]
            ],
            "type": "contour"
           }
          ],
          "contourcarpet": [
           {
            "colorbar": {
             "outlinewidth": 0,
             "ticks": ""
            },
            "type": "contourcarpet"
           }
          ],
          "heatmap": [
           {
            "colorbar": {
             "outlinewidth": 0,
             "ticks": ""
            },
            "colorscale": [
             [
              0.0,
              "#0d0887"
             ],
             [
              0.1111111111111111,
              "#46039f"
             ],
             [
              0.2222222222222222,
              "#7201a8"
             ],
             [
              0.3333333333333333,
              "#9c179e"
             ],
             [
              0.4444444444444444,
              "#bd3786"
             ],
             [
              0.5555555555555556,
              "#d8576b"
             ],
             [
              0.6666666666666666,
              "#ed7953"
             ],
             [
              0.7777777777777778,
              "#fb9f3a"
             ],
             [
              0.8888888888888888,
              "#fdca26"
             ],
             [
              1.0,
              "#f0f921"
             ]
            ],
            "type": "heatmap"
           }
          ],
          "heatmapgl": [
           {
            "colorbar": {
             "outlinewidth": 0,
             "ticks": ""
            },
            "colorscale": [
             [
              0.0,
              "#0d0887"
             ],
             [
              0.1111111111111111,
              "#46039f"
             ],
             [
              0.2222222222222222,
              "#7201a8"
             ],
             [
              0.3333333333333333,
              "#9c179e"
             ],
             [
              0.4444444444444444,
              "#bd3786"
             ],
             [
              0.5555555555555556,
              "#d8576b"
             ],
             [
              0.6666666666666666,
              "#ed7953"
             ],
             [
              0.7777777777777778,
              "#fb9f3a"
             ],
             [
              0.8888888888888888,
              "#fdca26"
             ],
             [
              1.0,
              "#f0f921"
             ]
            ],
            "type": "heatmapgl"
           }
          ],
          "histogram": [
           {
            "marker": {
             "colorbar": {
              "outlinewidth": 0,
              "ticks": ""
             }
            },
            "type": "histogram"
           }
          ],
          "histogram2d": [
           {
            "colorbar": {
             "outlinewidth": 0,
             "ticks": ""
            },
            "colorscale": [
             [
              0.0,
              "#0d0887"
             ],
             [
              0.1111111111111111,
              "#46039f"
             ],
             [
              0.2222222222222222,
              "#7201a8"
             ],
             [
              0.3333333333333333,
              "#9c179e"
             ],
             [
              0.4444444444444444,
              "#bd3786"
             ],
             [
              0.5555555555555556,
              "#d8576b"
             ],
             [
              0.6666666666666666,
              "#ed7953"
             ],
             [
              0.7777777777777778,
              "#fb9f3a"
             ],
             [
              0.8888888888888888,
              "#fdca26"
             ],
             [
              1.0,
              "#f0f921"
             ]
            ],
            "type": "histogram2d"
           }
          ],
          "histogram2dcontour": [
           {
            "colorbar": {
             "outlinewidth": 0,
             "ticks": ""
            },
            "colorscale": [
             [
              0.0,
              "#0d0887"
             ],
             [
              0.1111111111111111,
              "#46039f"
             ],
             [
              0.2222222222222222,
              "#7201a8"
             ],
             [
              0.3333333333333333,
              "#9c179e"
             ],
             [
              0.4444444444444444,
              "#bd3786"
             ],
             [
              0.5555555555555556,
              "#d8576b"
             ],
             [
              0.6666666666666666,
              "#ed7953"
             ],
             [
              0.7777777777777778,
              "#fb9f3a"
             ],
             [
              0.8888888888888888,
              "#fdca26"
             ],
             [
              1.0,
              "#f0f921"
             ]
            ],
            "type": "histogram2dcontour"
           }
          ],
          "mesh3d": [
           {
            "colorbar": {
             "outlinewidth": 0,
             "ticks": ""
            },
            "type": "mesh3d"
           }
          ],
          "parcoords": [
           {
            "line": {
             "colorbar": {
              "outlinewidth": 0,
              "ticks": ""
             }
            },
            "type": "parcoords"
           }
          ],
          "pie": [
           {
            "automargin": true,
            "type": "pie"
           }
          ],
          "scatter": [
           {
            "marker": {
             "colorbar": {
              "outlinewidth": 0,
              "ticks": ""
             }
            },
            "type": "scatter"
           }
          ],
          "scatter3d": [
           {
            "line": {
             "colorbar": {
              "outlinewidth": 0,
              "ticks": ""
             }
            },
            "marker": {
             "colorbar": {
              "outlinewidth": 0,
              "ticks": ""
             }
            },
            "type": "scatter3d"
           }
          ],
          "scattercarpet": [
           {
            "marker": {
             "colorbar": {
              "outlinewidth": 0,
              "ticks": ""
             }
            },
            "type": "scattercarpet"
           }
          ],
          "scattergeo": [
           {
            "marker": {
             "colorbar": {
              "outlinewidth": 0,
              "ticks": ""
             }
            },
            "type": "scattergeo"
           }
          ],
          "scattergl": [
           {
            "marker": {
             "colorbar": {
              "outlinewidth": 0,
              "ticks": ""
             }
            },
            "type": "scattergl"
           }
          ],
          "scattermapbox": [
           {
            "marker": {
             "colorbar": {
              "outlinewidth": 0,
              "ticks": ""
             }
            },
            "type": "scattermapbox"
           }
          ],
          "scatterpolar": [
           {
            "marker": {
             "colorbar": {
              "outlinewidth": 0,
              "ticks": ""
             }
            },
            "type": "scatterpolar"
           }
          ],
          "scatterpolargl": [
           {
            "marker": {
             "colorbar": {
              "outlinewidth": 0,
              "ticks": ""
             }
            },
            "type": "scatterpolargl"
           }
          ],
          "scatterternary": [
           {
            "marker": {
             "colorbar": {
              "outlinewidth": 0,
              "ticks": ""
             }
            },
            "type": "scatterternary"
           }
          ],
          "surface": [
           {
            "colorbar": {
             "outlinewidth": 0,
             "ticks": ""
            },
            "colorscale": [
             [
              0.0,
              "#0d0887"
             ],
             [
              0.1111111111111111,
              "#46039f"
             ],
             [
              0.2222222222222222,
              "#7201a8"
             ],
             [
              0.3333333333333333,
              "#9c179e"
             ],
             [
              0.4444444444444444,
              "#bd3786"
             ],
             [
              0.5555555555555556,
              "#d8576b"
             ],
             [
              0.6666666666666666,
              "#ed7953"
             ],
             [
              0.7777777777777778,
              "#fb9f3a"
             ],
             [
              0.8888888888888888,
              "#fdca26"
             ],
             [
              1.0,
              "#f0f921"
             ]
            ],
            "type": "surface"
           }
          ],
          "table": [
           {
            "cells": {
             "fill": {
              "color": "#EBF0F8"
             },
             "line": {
              "color": "white"
             }
            },
            "header": {
             "fill": {
              "color": "#C8D4E3"
             },
             "line": {
              "color": "white"
             }
            },
            "type": "table"
           }
          ]
         },
         "layout": {
          "annotationdefaults": {
           "arrowcolor": "#2a3f5f",
           "arrowhead": 0,
           "arrowwidth": 1
          },
          "autotypenumbers": "strict",
          "coloraxis": {
           "colorbar": {
            "outlinewidth": 0,
            "ticks": ""
           }
          },
          "colorscale": {
           "diverging": [
            [
             0,
             "#8e0152"
            ],
            [
             0.1,
             "#c51b7d"
            ],
            [
             0.2,
             "#de77ae"
            ],
            [
             0.3,
             "#f1b6da"
            ],
            [
             0.4,
             "#fde0ef"
            ],
            [
             0.5,
             "#f7f7f7"
            ],
            [
             0.6,
             "#e6f5d0"
            ],
            [
             0.7,
             "#b8e186"
            ],
            [
             0.8,
             "#7fbc41"
            ],
            [
             0.9,
             "#4d9221"
            ],
            [
             1,
             "#276419"
            ]
           ],
           "sequential": [
            [
             0.0,
             "#0d0887"
            ],
            [
             0.1111111111111111,
             "#46039f"
            ],
            [
             0.2222222222222222,
             "#7201a8"
            ],
            [
             0.3333333333333333,
             "#9c179e"
            ],
            [
             0.4444444444444444,
             "#bd3786"
            ],
            [
             0.5555555555555556,
             "#d8576b"
            ],
            [
             0.6666666666666666,
             "#ed7953"
            ],
            [
             0.7777777777777778,
             "#fb9f3a"
            ],
            [
             0.8888888888888888,
             "#fdca26"
            ],
            [
             1.0,
             "#f0f921"
            ]
           ],
           "sequentialminus": [
            [
             0.0,
             "#0d0887"
            ],
            [
             0.1111111111111111,
             "#46039f"
            ],
            [
             0.2222222222222222,
             "#7201a8"
            ],
            [
             0.3333333333333333,
             "#9c179e"
            ],
            [
             0.4444444444444444,
             "#bd3786"
            ],
            [
             0.5555555555555556,
             "#d8576b"
            ],
            [
             0.6666666666666666,
             "#ed7953"
            ],
            [
             0.7777777777777778,
             "#fb9f3a"
            ],
            [
             0.8888888888888888,
             "#fdca26"
            ],
            [
             1.0,
             "#f0f921"
            ]
           ]
          },
          "colorway": [
           "#636efa",
           "#EF553B",
           "#00cc96",
           "#ab63fa",
           "#FFA15A",
           "#19d3f3",
           "#FF6692",
           "#B6E880",
           "#FF97FF",
           "#FECB52"
          ],
          "font": {
           "color": "#2a3f5f"
          },
          "geo": {
           "bgcolor": "white",
           "lakecolor": "white",
           "landcolor": "#E5ECF6",
           "showlakes": true,
           "showland": true,
           "subunitcolor": "white"
          },
          "hoverlabel": {
           "align": "left"
          },
          "hovermode": "closest",
          "mapbox": {
           "style": "light"
          },
          "paper_bgcolor": "white",
          "plot_bgcolor": "#E5ECF6",
          "polar": {
           "angularaxis": {
            "gridcolor": "white",
            "linecolor": "white",
            "ticks": ""
           },
           "bgcolor": "#E5ECF6",
           "radialaxis": {
            "gridcolor": "white",
            "linecolor": "white",
            "ticks": ""
           }
          },
          "scene": {
           "xaxis": {
            "backgroundcolor": "#E5ECF6",
            "gridcolor": "white",
            "gridwidth": 2,
            "linecolor": "white",
            "showbackground": true,
            "ticks": "",
            "zerolinecolor": "white"
           },
           "yaxis": {
            "backgroundcolor": "#E5ECF6",
            "gridcolor": "white",
            "gridwidth": 2,
            "linecolor": "white",
            "showbackground": true,
            "ticks": "",
            "zerolinecolor": "white"
           },
           "zaxis": {
            "backgroundcolor": "#E5ECF6",
            "gridcolor": "white",
            "gridwidth": 2,
            "linecolor": "white",
            "showbackground": true,
            "ticks": "",
            "zerolinecolor": "white"
           }
          },
          "shapedefaults": {
           "line": {
            "color": "#2a3f5f"
           }
          },
          "ternary": {
           "aaxis": {
            "gridcolor": "white",
            "linecolor": "white",
            "ticks": ""
           },
           "baxis": {
            "gridcolor": "white",
            "linecolor": "white",
            "ticks": ""
           },
           "bgcolor": "#E5ECF6",
           "caxis": {
            "gridcolor": "white",
            "linecolor": "white",
            "ticks": ""
           }
          },
          "title": {
           "x": 0.05
          },
          "xaxis": {
           "automargin": true,
           "gridcolor": "white",
           "linecolor": "white",
           "ticks": "",
           "title": {
            "standoff": 15
           },
           "zerolinecolor": "white",
           "zerolinewidth": 2
          },
          "yaxis": {
           "automargin": true,
           "gridcolor": "white",
           "linecolor": "white",
           "ticks": "",
           "title": {
            "standoff": 15
           },
           "zerolinecolor": "white",
           "zerolinewidth": 2
          }
         }
        },
        "title": {
         "text": "Embeddings"
        }
       }
      },
      "text/html": "<div>                            <div id=\"4842b315-78f0-4ff8-8ba1-96e4d3314397\" class=\"plotly-graph-div\" style=\"height:525px; width:100%;\"></div>            <script type=\"text/javascript\">                require([\"plotly\"], function(Plotly) {                    window.PLOTLYENV=window.PLOTLYENV || {};                                    if (document.getElementById(\"4842b315-78f0-4ff8-8ba1-96e4d3314397\")) {                    Plotly.newPlot(                        \"4842b315-78f0-4ff8-8ba1-96e4d3314397\",                        [{\"hovertemplate\": \"x=%{x}<br>y=%{y}<br>z=%{z}<br>color=%{marker.color}<extra></extra>\", \"legendgroup\": \"\", \"marker\": {\"color\": [0.0, 0.0, 0.0, 0.0, 0.0, 0.0, 0.0, 0.0, 0.0, 0.0, 0.0, 0.0, 0.0, 0.0, 0.0, 1.0, 1.0, 1.0, 1.0, 1.0, 1.0, 1.0, 1.0, 1.0, 1.0, 1.0, 1.0, 1.0, 1.0, 1.0, 2.0, 2.0, 2.0, 2.0, 2.0, 2.0, 2.0, 2.0, 2.0, 2.0, 2.0, 2.0, 2.0, 2.0, 2.0, 3.0, 3.0, 3.0, 3.0, 3.0, 3.0, 3.0, 3.0, 3.0, 3.0, 3.0, 3.0, 3.0, 3.0, 3.0, 4.0, 4.0, 4.0, 4.0, 4.0, 4.0, 4.0, 4.0, 4.0, 4.0, 4.0, 4.0, 4.0, 4.0, 4.0, 5.0, 5.0, 5.0, 5.0, 5.0, 5.0, 5.0, 5.0, 5.0, 5.0, 5.0, 5.0, 5.0, 5.0, 5.0, 6.0, 6.0, 6.0, 6.0, 6.0, 6.0, 6.0, 6.0, 6.0, 6.0, 6.0, 6.0, 6.0, 6.0, 6.0, 7.0, 7.0, 7.0, 7.0, 7.0, 7.0, 7.0, 7.0, 7.0, 7.0, 7.0, 7.0, 7.0, 7.0, 7.0], \"coloraxis\": \"coloraxis\", \"opacity\": 0.5, \"symbol\": \"circle\"}, \"mode\": \"markers\", \"name\": \"\", \"scene\": \"scene\", \"showlegend\": false, \"type\": \"scatter3d\", \"x\": [-0.48068690299987793, -0.2776833474636078, -0.3095583915710449, -0.11577732861042023, 0.30107414722442627, -1.0825616121292114, 0.24984951317310333, -0.6209332942962646, 0.08623673021793365, 0.2988981604576111, 0.11638852953910828, 0.008178666234016418, 0.061987727880477905, 0.932685911655426, -0.26664143800735474, 0.5973087549209595, 0.5024865865707397, -0.4574991464614868, -0.2816311717033386, 0.3803322911262512, -0.4775899648666382, -0.28182125091552734, -1.0519673824310303, 0.5655307173728943, 0.7768396139144897, 0.3321376442909241, -1.1489441394805908, -0.2937281131744385, 0.06800885498523712, -0.328006386756897, -0.007161229848861694, 0.23065726459026337, 0.24543248116970062, -0.3469839096069336, -0.26182714104652405, 0.7894192934036255, -0.2758788466453552, -0.8267462253570557, -0.27686721086502075, -0.6105080246925354, 0.44218558073043823, -0.1924304962158203, -0.06259264796972275, -0.4166713356971741, 0.4714299440383911, -0.2266220897436142, -0.35645925998687744, -0.426750123500824, -0.2069462239742279, 0.03755667805671692, -0.45601093769073486, -0.11550789326429367, -0.3249306082725525, 0.5534775853157043, 0.4603015184402466, 0.8590500354766846, -0.30450284481048584, -0.5363824963569641, 0.04590514302253723, -0.10072121024131775, 0.6231229305267334, -1.1826750040054321, 0.18762533366680145, 1.1127190589904785, 0.35595911741256714, -0.14018496870994568, 0.014431022107601166, 0.028069205582141876, 0.4745206832885742, -0.23353900015354156, -0.7971709966659546, 0.2526686191558838, -0.432104229927063, -0.38572317361831665, -0.9762610793113708, -0.10591726005077362, 0.2950618267059326, 0.5295188426971436, 0.2114388793706894, -0.38788557052612305, -1.009131669998169, 0.7301794290542603, -0.7299150824546814, -0.5318427085876465, -0.04946081340312958, 0.05593506991863251, 0.6601201891899109, -0.3264268636703491, 0.35130834579467773, -0.7915255427360535, 0.2323625534772873, -0.11542418599128723, 0.30828261375427246, 0.7473598122596741, -0.591902494430542, 0.13601315021514893, 0.045712344348430634, -0.2864592671394348, 0.366952121257782, -0.5349847674369812, 0.4927201271057129, -0.544114887714386, -0.20388077199459076, -0.5199844837188721, -0.6311951279640198, -1.161851406097412, -0.3190980553627014, 0.09273765981197357, 0.545995831489563, -0.019467897713184357, -0.3735976815223694, 0.46742701530456543, -0.41285836696624756, 0.057517677545547485, 0.22416721284389496, -0.2237250804901123, 0.71646648645401, -0.22194531559944153, -0.20688509941101074, -0.2634257674217224], \"y\": [-0.7531757354736328, -1.7101165056228638, -0.2458401471376419, 0.657362163066864, 1.1221888065338135, 0.9910862445831299, 0.5860181450843811, -0.11119738966226578, 0.4465258717536926, -0.2355053871870041, 0.43378251791000366, -0.11016149818897247, -1.0730866193771362, 0.18989621102809906, 0.014477001503109932, -0.5371680855751038, 0.175310418009758, -1.3727437257766724, 1.0356435775756836, 0.8626686930656433, 1.0599156618118286, -1.5145294666290283, -0.23978175222873688, 0.6287431716918945, 0.5662768483161926, -0.5392926335334778, -0.4856415390968323, -1.3546698093414307, 1.058366298675537, 0.8591559529304504, -0.023726142942905426, -0.889506995677948, -0.46627604961395264, 0.15623684227466583, -0.3131106495857239, 0.5953088402748108, 0.3106624484062195, 0.5789620280265808, 0.2772051692008972, 0.664777934551239, -0.36997348070144653, 0.298453688621521, -0.6990005970001221, 0.3358025550842285, -0.2535616159439087, -0.13247384130954742, -0.11810730397701263, -0.20114558935165405, 0.8315000534057617, 0.02262561395764351, -0.34763479232788086, 0.5620325207710266, 0.6476106643676758, -0.7536652684211731, -1.3911610841751099, -0.028181470930576324, 0.22704076766967773, -0.4702746272087097, 0.7837576866149902, 0.5703299641609192, -0.15149982273578644, 1.1402510404586792, 0.430240273475647, -1.2328948974609375, 0.03471303731203079, -0.6313256621360779, -0.27258312702178955, -0.27294695377349854, -0.41915225982666016, 0.803943932056427, -0.17012815177440643, -1.222894310951233, 0.26932692527770996, 0.7982503771781921, 1.0989528894424438, -0.33026832342147827, -1.1459649801254272, -0.4617079496383667, -0.6124290227890015, 0.6509518623352051, 0.5243287086486816, 0.5230621099472046, -0.32084476947784424, 0.16552764177322388, 0.29059720039367676, -0.3929619789123535, -0.07600292563438416, 0.5474646091461182, 0.4716566801071167, 0.36884403228759766, 0.3608124852180481, 0.271126925945282, 0.9215707182884216, 0.40684008598327637, 0.7843977808952332, 0.3321800231933594, -2.724189519882202, -0.10716534405946732, 0.11862151324748993, 0.2618168294429779, -0.07171092927455902, -0.18504159152507782, 0.3419550657272339, -0.02734265848994255, -0.481616735458374, 0.736029863357544, -0.8742019534111023, 0.9705603122711182, 0.9243012070655823, 0.3551591634750366, 0.6351303458213806, 0.5408463478088379, -0.5831944942474365, -0.8659213185310364, -1.08303701877594, -1.5544090270996094, 0.1671680063009262, -0.785577118396759, 1.1735920906066895, 0.44580692052841187], \"z\": [0.7557592391967773, 0.05538362264633179, -1.019616961479187, -0.042569104582071304, -0.0726853460073471, -0.6925503611564636, -0.471451997756958, 0.1152188703417778, -0.03651580959558487, 0.8108673095703125, -0.35567960143089294, 0.49970996379852295, 0.15709617733955383, -0.47609055042266846, 0.31039077043533325, -0.13284899294376373, -0.7295360565185547, -0.8538019061088562, 0.1957135796546936, 0.3266639709472656, -0.36732053756713867, -0.5440752506256104, 0.15163278579711914, 0.3953482210636139, -0.4456726014614105, 0.006730496883392334, 0.9757705330848694, 0.6777646541595459, -0.24685880541801453, 0.12775659561157227, 0.16504284739494324, 0.06377564370632172, -0.49342361092567444, -0.02205682173371315, 0.2814555764198303, -0.3481697142124176, 0.6864017844200134, -0.7426650524139404, 0.33104097843170166, -0.6665389537811279, -0.26023411750793457, -0.18216100335121155, 0.6826156973838806, 0.35810336470603943, -0.3159199357032776, -0.09429998695850372, -0.2843646705150604, -0.020521605387330055, 0.3075917363166809, 0.6867773532867432, -0.40452978014945984, 0.5029202103614807, -0.1985313892364502, 0.483334481716156, 0.45224201679229736, -0.5083708763122559, -0.16826069355010986, -0.7509928941726685, -0.27558454871177673, -0.19014301896095276, 0.5268962979316711, -0.7148127555847168, -0.013680331408977509, -0.48667702078819275, 0.5925754904747009, 0.41229113936424255, 0.39801082015037537, 0.496662974357605, -0.2691638767719269, 0.043029144406318665, -1.0047107934951782, -0.18202373385429382, 1.0929884910583496, -0.7772976756095886, -0.5768219828605652, -0.20744860172271729, -0.028932133689522743, 0.5580067038536072, -0.32368916273117065, 0.6066416501998901, -0.992805004119873, 0.4020729660987854, -1.199230432510376, 0.5255386829376221, -0.32295066118240356, 0.2771393060684204, -0.35838690400123596, 0.236260324716568, -0.1638980209827423, 0.5289474725723267, -0.9047365784645081, 0.2716326415538788, -0.6334735155105591, -1.2253292798995972, -0.7543562650680542, -0.1835004687309265, -0.6915704607963562, 0.8584560751914978, -0.7167319059371948, 0.4906865358352661, 0.05425538122653961, 0.7593488693237305, 0.4418829679489136, 1.0329006910324097, 0.7378023266792297, 0.3543676733970642, -1.1510525941848755, 0.1881176233291626, 0.018226109445095062, -0.2972303032875061, 0.6075663566589355, 0.3608970046043396, 0.06224333494901657, -0.13671395182609558, 0.06933465600013733, -1.1509275436401367, 0.5081973075866699, -0.841062605381012, 0.15751072764396667, 0.7877930998802185]}],                        {\"coloraxis\": {\"colorbar\": {\"title\": {\"text\": \"color\"}}, \"colorscale\": [[0.0, \"#0d0887\"], [0.1111111111111111, \"#46039f\"], [0.2222222222222222, \"#7201a8\"], [0.3333333333333333, \"#9c179e\"], [0.4444444444444444, \"#bd3786\"], [0.5555555555555556, \"#d8576b\"], [0.6666666666666666, \"#ed7953\"], [0.7777777777777778, \"#fb9f3a\"], [0.8888888888888888, \"#fdca26\"], [1.0, \"#f0f921\"]]}, \"legend\": {\"tracegroupgap\": 0}, \"scene\": {\"domain\": {\"x\": [0.0, 1.0], \"y\": [0.0, 1.0]}, \"xaxis\": {\"title\": {\"text\": \"x\"}}, \"yaxis\": {\"title\": {\"text\": \"y\"}}, \"zaxis\": {\"title\": {\"text\": \"z\"}}}, \"template\": {\"data\": {\"bar\": [{\"error_x\": {\"color\": \"#2a3f5f\"}, \"error_y\": {\"color\": \"#2a3f5f\"}, \"marker\": {\"line\": {\"color\": \"#E5ECF6\", \"width\": 0.5}}, \"type\": \"bar\"}], \"barpolar\": [{\"marker\": {\"line\": {\"color\": \"#E5ECF6\", \"width\": 0.5}}, \"type\": \"barpolar\"}], \"carpet\": [{\"aaxis\": {\"endlinecolor\": \"#2a3f5f\", \"gridcolor\": \"white\", \"linecolor\": \"white\", \"minorgridcolor\": \"white\", \"startlinecolor\": \"#2a3f5f\"}, \"baxis\": {\"endlinecolor\": \"#2a3f5f\", \"gridcolor\": \"white\", \"linecolor\": \"white\", \"minorgridcolor\": \"white\", \"startlinecolor\": \"#2a3f5f\"}, \"type\": \"carpet\"}], \"choropleth\": [{\"colorbar\": {\"outlinewidth\": 0, \"ticks\": \"\"}, \"type\": \"choropleth\"}], \"contour\": [{\"colorbar\": {\"outlinewidth\": 0, \"ticks\": \"\"}, \"colorscale\": [[0.0, \"#0d0887\"], [0.1111111111111111, \"#46039f\"], [0.2222222222222222, \"#7201a8\"], [0.3333333333333333, \"#9c179e\"], [0.4444444444444444, \"#bd3786\"], [0.5555555555555556, \"#d8576b\"], [0.6666666666666666, \"#ed7953\"], [0.7777777777777778, \"#fb9f3a\"], [0.8888888888888888, \"#fdca26\"], [1.0, \"#f0f921\"]], \"type\": \"contour\"}], \"contourcarpet\": [{\"colorbar\": {\"outlinewidth\": 0, \"ticks\": \"\"}, \"type\": \"contourcarpet\"}], \"heatmap\": [{\"colorbar\": {\"outlinewidth\": 0, \"ticks\": \"\"}, \"colorscale\": [[0.0, \"#0d0887\"], [0.1111111111111111, \"#46039f\"], [0.2222222222222222, \"#7201a8\"], [0.3333333333333333, \"#9c179e\"], [0.4444444444444444, \"#bd3786\"], [0.5555555555555556, \"#d8576b\"], [0.6666666666666666, \"#ed7953\"], [0.7777777777777778, \"#fb9f3a\"], [0.8888888888888888, \"#fdca26\"], [1.0, \"#f0f921\"]], \"type\": \"heatmap\"}], \"heatmapgl\": [{\"colorbar\": {\"outlinewidth\": 0, \"ticks\": \"\"}, \"colorscale\": [[0.0, \"#0d0887\"], [0.1111111111111111, \"#46039f\"], [0.2222222222222222, \"#7201a8\"], [0.3333333333333333, \"#9c179e\"], [0.4444444444444444, \"#bd3786\"], [0.5555555555555556, \"#d8576b\"], [0.6666666666666666, \"#ed7953\"], [0.7777777777777778, \"#fb9f3a\"], [0.8888888888888888, \"#fdca26\"], [1.0, \"#f0f921\"]], \"type\": \"heatmapgl\"}], \"histogram\": [{\"marker\": {\"colorbar\": {\"outlinewidth\": 0, \"ticks\": \"\"}}, \"type\": \"histogram\"}], \"histogram2d\": [{\"colorbar\": {\"outlinewidth\": 0, \"ticks\": \"\"}, \"colorscale\": [[0.0, \"#0d0887\"], [0.1111111111111111, \"#46039f\"], [0.2222222222222222, \"#7201a8\"], [0.3333333333333333, \"#9c179e\"], [0.4444444444444444, \"#bd3786\"], [0.5555555555555556, \"#d8576b\"], [0.6666666666666666, \"#ed7953\"], [0.7777777777777778, \"#fb9f3a\"], [0.8888888888888888, \"#fdca26\"], [1.0, \"#f0f921\"]], \"type\": \"histogram2d\"}], \"histogram2dcontour\": [{\"colorbar\": {\"outlinewidth\": 0, \"ticks\": \"\"}, \"colorscale\": [[0.0, \"#0d0887\"], [0.1111111111111111, \"#46039f\"], [0.2222222222222222, \"#7201a8\"], [0.3333333333333333, \"#9c179e\"], [0.4444444444444444, \"#bd3786\"], [0.5555555555555556, \"#d8576b\"], [0.6666666666666666, \"#ed7953\"], [0.7777777777777778, \"#fb9f3a\"], [0.8888888888888888, \"#fdca26\"], [1.0, \"#f0f921\"]], \"type\": \"histogram2dcontour\"}], \"mesh3d\": [{\"colorbar\": {\"outlinewidth\": 0, \"ticks\": \"\"}, \"type\": \"mesh3d\"}], \"parcoords\": [{\"line\": {\"colorbar\": {\"outlinewidth\": 0, \"ticks\": \"\"}}, \"type\": \"parcoords\"}], \"pie\": [{\"automargin\": true, \"type\": \"pie\"}], \"scatter\": [{\"marker\": {\"colorbar\": {\"outlinewidth\": 0, \"ticks\": \"\"}}, \"type\": \"scatter\"}], \"scatter3d\": [{\"line\": {\"colorbar\": {\"outlinewidth\": 0, \"ticks\": \"\"}}, \"marker\": {\"colorbar\": {\"outlinewidth\": 0, \"ticks\": \"\"}}, \"type\": \"scatter3d\"}], \"scattercarpet\": [{\"marker\": {\"colorbar\": {\"outlinewidth\": 0, \"ticks\": \"\"}}, \"type\": \"scattercarpet\"}], \"scattergeo\": [{\"marker\": {\"colorbar\": {\"outlinewidth\": 0, \"ticks\": \"\"}}, \"type\": \"scattergeo\"}], \"scattergl\": [{\"marker\": {\"colorbar\": {\"outlinewidth\": 0, \"ticks\": \"\"}}, \"type\": \"scattergl\"}], \"scattermapbox\": [{\"marker\": {\"colorbar\": {\"outlinewidth\": 0, \"ticks\": \"\"}}, \"type\": \"scattermapbox\"}], \"scatterpolar\": [{\"marker\": {\"colorbar\": {\"outlinewidth\": 0, \"ticks\": \"\"}}, \"type\": \"scatterpolar\"}], \"scatterpolargl\": [{\"marker\": {\"colorbar\": {\"outlinewidth\": 0, \"ticks\": \"\"}}, \"type\": \"scatterpolargl\"}], \"scatterternary\": [{\"marker\": {\"colorbar\": {\"outlinewidth\": 0, \"ticks\": \"\"}}, \"type\": \"scatterternary\"}], \"surface\": [{\"colorbar\": {\"outlinewidth\": 0, \"ticks\": \"\"}, \"colorscale\": [[0.0, \"#0d0887\"], [0.1111111111111111, \"#46039f\"], [0.2222222222222222, \"#7201a8\"], [0.3333333333333333, \"#9c179e\"], [0.4444444444444444, \"#bd3786\"], [0.5555555555555556, \"#d8576b\"], [0.6666666666666666, \"#ed7953\"], [0.7777777777777778, \"#fb9f3a\"], [0.8888888888888888, \"#fdca26\"], [1.0, \"#f0f921\"]], \"type\": \"surface\"}], \"table\": [{\"cells\": {\"fill\": {\"color\": \"#EBF0F8\"}, \"line\": {\"color\": \"white\"}}, \"header\": {\"fill\": {\"color\": \"#C8D4E3\"}, \"line\": {\"color\": \"white\"}}, \"type\": \"table\"}]}, \"layout\": {\"annotationdefaults\": {\"arrowcolor\": \"#2a3f5f\", \"arrowhead\": 0, \"arrowwidth\": 1}, \"autotypenumbers\": \"strict\", \"coloraxis\": {\"colorbar\": {\"outlinewidth\": 0, \"ticks\": \"\"}}, \"colorscale\": {\"diverging\": [[0, \"#8e0152\"], [0.1, \"#c51b7d\"], [0.2, \"#de77ae\"], [0.3, \"#f1b6da\"], [0.4, \"#fde0ef\"], [0.5, \"#f7f7f7\"], [0.6, \"#e6f5d0\"], [0.7, \"#b8e186\"], [0.8, \"#7fbc41\"], [0.9, \"#4d9221\"], [1, \"#276419\"]], \"sequential\": [[0.0, \"#0d0887\"], [0.1111111111111111, \"#46039f\"], [0.2222222222222222, \"#7201a8\"], [0.3333333333333333, \"#9c179e\"], [0.4444444444444444, \"#bd3786\"], [0.5555555555555556, \"#d8576b\"], [0.6666666666666666, \"#ed7953\"], [0.7777777777777778, \"#fb9f3a\"], [0.8888888888888888, \"#fdca26\"], [1.0, \"#f0f921\"]], \"sequentialminus\": [[0.0, \"#0d0887\"], [0.1111111111111111, \"#46039f\"], [0.2222222222222222, \"#7201a8\"], [0.3333333333333333, \"#9c179e\"], [0.4444444444444444, \"#bd3786\"], [0.5555555555555556, \"#d8576b\"], [0.6666666666666666, \"#ed7953\"], [0.7777777777777778, \"#fb9f3a\"], [0.8888888888888888, \"#fdca26\"], [1.0, \"#f0f921\"]]}, \"colorway\": [\"#636efa\", \"#EF553B\", \"#00cc96\", \"#ab63fa\", \"#FFA15A\", \"#19d3f3\", \"#FF6692\", \"#B6E880\", \"#FF97FF\", \"#FECB52\"], \"font\": {\"color\": \"#2a3f5f\"}, \"geo\": {\"bgcolor\": \"white\", \"lakecolor\": \"white\", \"landcolor\": \"#E5ECF6\", \"showlakes\": true, \"showland\": true, \"subunitcolor\": \"white\"}, \"hoverlabel\": {\"align\": \"left\"}, \"hovermode\": \"closest\", \"mapbox\": {\"style\": \"light\"}, \"paper_bgcolor\": \"white\", \"plot_bgcolor\": \"#E5ECF6\", \"polar\": {\"angularaxis\": {\"gridcolor\": \"white\", \"linecolor\": \"white\", \"ticks\": \"\"}, \"bgcolor\": \"#E5ECF6\", \"radialaxis\": {\"gridcolor\": \"white\", \"linecolor\": \"white\", \"ticks\": \"\"}}, \"scene\": {\"xaxis\": {\"backgroundcolor\": \"#E5ECF6\", \"gridcolor\": \"white\", \"gridwidth\": 2, \"linecolor\": \"white\", \"showbackground\": true, \"ticks\": \"\", \"zerolinecolor\": \"white\"}, \"yaxis\": {\"backgroundcolor\": \"#E5ECF6\", \"gridcolor\": \"white\", \"gridwidth\": 2, \"linecolor\": \"white\", \"showbackground\": true, \"ticks\": \"\", \"zerolinecolor\": \"white\"}, \"zaxis\": {\"backgroundcolor\": \"#E5ECF6\", \"gridcolor\": \"white\", \"gridwidth\": 2, \"linecolor\": \"white\", \"showbackground\": true, \"ticks\": \"\", \"zerolinecolor\": \"white\"}}, \"shapedefaults\": {\"line\": {\"color\": \"#2a3f5f\"}}, \"ternary\": {\"aaxis\": {\"gridcolor\": \"white\", \"linecolor\": \"white\", \"ticks\": \"\"}, \"baxis\": {\"gridcolor\": \"white\", \"linecolor\": \"white\", \"ticks\": \"\"}, \"bgcolor\": \"#E5ECF6\", \"caxis\": {\"gridcolor\": \"white\", \"linecolor\": \"white\", \"ticks\": \"\"}}, \"title\": {\"x\": 0.05}, \"xaxis\": {\"automargin\": true, \"gridcolor\": \"white\", \"linecolor\": \"white\", \"ticks\": \"\", \"title\": {\"standoff\": 15}, \"zerolinecolor\": \"white\", \"zerolinewidth\": 2}, \"yaxis\": {\"automargin\": true, \"gridcolor\": \"white\", \"linecolor\": \"white\", \"ticks\": \"\", \"title\": {\"standoff\": 15}, \"zerolinecolor\": \"white\", \"zerolinewidth\": 2}}}, \"title\": {\"text\": \"Embeddings\"}},                        {\"responsive\": true}                    ).then(function(){\n                            \nvar gd = document.getElementById('4842b315-78f0-4ff8-8ba1-96e4d3314397');\nvar x = new MutationObserver(function (mutations, observer) {{\n        var display = window.getComputedStyle(gd).display;\n        if (!display || display === 'none') {{\n            console.log([gd, 'removed!']);\n            Plotly.purge(gd);\n            observer.disconnect();\n        }}\n}});\n\n// Listen for the removal of the full notebook cells\nvar notebookContainer = gd.closest('#notebook-container');\nif (notebookContainer) {{\n    x.observe(notebookContainer, {childList: true});\n}}\n\n// Listen for the clearing of the current output cell\nvar outputEl = gd.closest('.output');\nif (outputEl) {{\n    x.observe(outputEl, {childList: true});\n}}\n\n                        })                };                });            </script>        </div>"
     },
     "metadata": {},
     "output_type": "display_data"
    }
   ],
   "source": [
    "fig = px.scatter_3d(samples[:,1:4], x=0, y=1, z=2, color=samples[:,0],\n",
    "                    title='Embeddings', labels={'0':'x','1':'y','2':'z'}, opacity=0.5)\n",
    "fig.show()"
   ],
   "metadata": {
    "collapsed": false,
    "pycharm": {
     "name": "#%%\n"
    }
   }
  },
  {
   "cell_type": "code",
   "execution_count": 21,
   "outputs": [],
   "source": [
    "test_dataloader = DataLoader(test_data, config.batch_size, shuffle=True, num_workers=0)"
   ],
   "metadata": {
    "collapsed": false,
    "pycharm": {
     "name": "#%%\n"
    }
   }
  },
  {
   "cell_type": "markdown",
   "source": [
    "Evaluate Metrics and Save predicted samples"
   ],
   "metadata": {
    "collapsed": false,
    "pycharm": {
     "name": "#%% md\n"
    }
   }
  },
  {
   "cell_type": "code",
   "execution_count": 49,
   "outputs": [],
   "source": [
    "save_to = 'data/predictions/'+training_desc\n",
    "if not os.path.exists(save_to):\n",
    "    os.makedirs(save_to+'/tp')\n",
    "    os.makedirs(save_to+'/tn')\n",
    "    os.makedirs(save_to+'/fp')\n",
    "    os.makedirs(save_to+'/fn')\n",
    "save_name = 'E_{:02d}-b_{:03d}-d_{:.4f}.jpg'\n",
    "split = np.ones((1,config.image_size[1],3))"
   ],
   "metadata": {
    "collapsed": false,
    "pycharm": {
     "name": "#%%\n"
    }
   }
  },
  {
   "cell_type": "code",
   "execution_count": 50,
   "outputs": [
    {
     "data": {
      "text/plain": "'E_03-b_020-d_0.3442.jpg'"
     },
     "execution_count": 50,
     "metadata": {},
     "output_type": "execute_result"
    }
   ],
   "source": [
    "save_name.format(3,20,0.34423424)"
   ],
   "metadata": {
    "collapsed": false,
    "pycharm": {
     "name": "#%%\n"
    }
   }
  },
  {
   "cell_type": "code",
   "execution_count": 53,
   "outputs": [
    {
     "name": "stderr",
     "output_type": "stream",
     "text": [
      " 75%|███████▌  | 3/4 [00:07<00:02,  2.52s/it]"
     ]
    },
    {
     "name": "stdout",
     "output_type": "stream",
     "text": [
      " ... Skipping small batch <24>"
     ]
    },
    {
     "name": "stderr",
     "output_type": "stream",
     "text": [
      "100%|██████████| 4/4 [00:09<00:00,  2.35s/it]\n",
      "  0%|          | 0/4 [00:00<?, ?it/s]"
     ]
    },
    {
     "name": "stdout",
     "output_type": "stream",
     "text": [
      "\n"
     ]
    },
    {
     "name": "stderr",
     "output_type": "stream",
     "text": [
      "100%|██████████| 4/4 [00:09<00:00,  2.29s/it]\n",
      "  0%|          | 0/4 [00:00<?, ?it/s]"
     ]
    },
    {
     "name": "stdout",
     "output_type": "stream",
     "text": [
      " ... Skipping small batch <24>\n"
     ]
    },
    {
     "name": "stderr",
     "output_type": "stream",
     "text": [
      "100%|██████████| 4/4 [00:09<00:00,  2.34s/it]\n",
      "  0%|          | 0/4 [00:00<?, ?it/s]"
     ]
    },
    {
     "name": "stdout",
     "output_type": "stream",
     "text": [
      " ... Skipping small batch <24>\n"
     ]
    },
    {
     "name": "stderr",
     "output_type": "stream",
     "text": [
      "100%|██████████| 4/4 [00:08<00:00,  2.24s/it]\n",
      "  0%|          | 0/4 [00:00<?, ?it/s]"
     ]
    },
    {
     "name": "stdout",
     "output_type": "stream",
     "text": [
      " ... Skipping small batch <24>\n"
     ]
    },
    {
     "name": "stderr",
     "output_type": "stream",
     "text": [
      "100%|██████████| 4/4 [00:08<00:00,  2.21s/it]\n",
      "  0%|          | 0/4 [00:00<?, ?it/s]"
     ]
    },
    {
     "name": "stdout",
     "output_type": "stream",
     "text": [
      " ... Skipping small batch <24>\n"
     ]
    },
    {
     "name": "stderr",
     "output_type": "stream",
     "text": [
      "100%|██████████| 4/4 [00:08<00:00,  2.19s/it]\n",
      "  0%|          | 0/4 [00:00<?, ?it/s]"
     ]
    },
    {
     "name": "stdout",
     "output_type": "stream",
     "text": [
      " ... Skipping small batch <24>\n"
     ]
    },
    {
     "name": "stderr",
     "output_type": "stream",
     "text": [
      "100%|██████████| 4/4 [00:08<00:00,  2.24s/it]\n",
      "  0%|          | 0/4 [00:00<?, ?it/s]"
     ]
    },
    {
     "name": "stdout",
     "output_type": "stream",
     "text": [
      " ... Skipping small batch <24>\n"
     ]
    },
    {
     "name": "stderr",
     "output_type": "stream",
     "text": [
      "100%|██████████| 4/4 [00:09<00:00,  2.25s/it]\n",
      "  0%|          | 0/4 [00:00<?, ?it/s]"
     ]
    },
    {
     "name": "stdout",
     "output_type": "stream",
     "text": [
      " ... Skipping small batch <24>\n"
     ]
    },
    {
     "name": "stderr",
     "output_type": "stream",
     "text": [
      "100%|██████████| 4/4 [00:08<00:00,  2.23s/it]\n",
      "  0%|          | 0/4 [00:00<?, ?it/s]"
     ]
    },
    {
     "name": "stdout",
     "output_type": "stream",
     "text": [
      " ... Skipping small batch <24>\n"
     ]
    },
    {
     "name": "stderr",
     "output_type": "stream",
     "text": [
      "100%|██████████| 4/4 [00:08<00:00,  2.23s/it]"
     ]
    },
    {
     "name": "stdout",
     "output_type": "stream",
     "text": [
      " ... Skipping small batch <24>\n",
      "Test Accuracy: 0.5020833333333333\n",
      "Test Precision: 0.45897435897435895\n",
      "Test Recall: 0.4013452914798206\n"
     ]
    },
    {
     "name": "stderr",
     "output_type": "stream",
     "text": [
      "\n"
     ]
    }
   ],
   "source": [
    "# accuracy_mean = 0\n",
    "# precision_mean = 0\n",
    "# recall_mean = 0\n",
    "batches = 0\n",
    "\n",
    "distances = []\n",
    "y_true = []\n",
    "tp = 0\n",
    "tn = 0\n",
    "fp = 0\n",
    "fn = 0\n",
    "for epoch in range(10):\n",
    "    test_data.reset()\n",
    "    for batch, (x1, x2, y) in tqdm(enumerate(test_dataloader), total=int(np.ceil(len(test_data)/config.batch_size))):\n",
    "        if len(x1) != config.batch_size:\n",
    "            print(f\" ... Skipping small batch <{len(x1)}>\")\n",
    "            continue\n",
    "\n",
    "        out1, out2 = model.forward(x1.to(device), x2.to(device))\n",
    "        distance, _ = model.distance_euclid(out1, out2)\n",
    "        distances = np.concatenate((distances,distance.detach().cpu().numpy()),axis=0)\n",
    "        thresh = 1.19\n",
    "        for dist,s1,s2,t in zip(distances,x1,x2,y):\n",
    "            if dist < thresh and t:\n",
    "                cv2.imwrite(os.path.join(save_to,'tp',save_name.format(epoch,batch,dist)), np.concatenate((s1.numpy(),split,s2.numpy()), axis=2).transpose([1,2,0])*255)\n",
    "                tp+=1\n",
    "            if dist < thresh and not t:\n",
    "                cv2.imwrite(os.path.join(save_to,'fp',save_name.format(epoch,batch,dist)), np.concatenate((s1.numpy(),split,s2.numpy()), axis=2).transpose([1,2,0])*255)\n",
    "                fp+=1\n",
    "            if dist >= thresh and not t:\n",
    "                cv2.imwrite(os.path.join(save_to,'tn',save_name.format(epoch,batch,dist)), np.concatenate((s1.numpy(),split,s2.numpy()), axis=2).transpose([1,2,0])*255)\n",
    "                tn+=1\n",
    "            if dist >= thresh and t:\n",
    "                cv2.imwrite(os.path.join(save_to,'fn',save_name.format(epoch,batch,dist)), np.concatenate((s1.numpy(),split,s2.numpy()), axis=2).transpose([1,2,0])*255)\n",
    "                fn+=1\n",
    "        y_true = np.concatenate((y_true,y.cpu().numpy()),axis=0)\n",
    "        # similarity = (distance < thresh).float()\n",
    "        # correct = (similarity==y.to(device)).float().sum()\n",
    "        # accuracy_mean += correct/x1.shape[0]\n",
    "        # precision_mean += torch.sum((similarity * y.to(device))) / torch.sum((similarity * y.to(device)) + (similarity * (y.to(device)*-1+1)))\n",
    "        # recall_mean += torch.sum((similarity * y.to(device))) / torch.sum((similarity * y.to(device)) + ((similarity*-1+1) * y.to(device)))\n",
    "        batches += 1\n",
    "\n",
    "\n",
    "# print(f\"Test Accuracy: {accuracy_mean/batches}\")\n",
    "# print(f\"Test Precision: {precision_mean/batches}\")\n",
    "# print(f\"Test Recall: {recall_mean/batches}\")\n",
    "print(f\"Test Accuracy: {(tp+tn)/(tp+tn+fp+fn)}\")\n",
    "print(f\"Test Precision: {(tp)/(tp+fp)}\")\n",
    "print(f\"Test Recall: {(tp)/(tp+fn)}\")\n",
    "\n",
    "    # _, axs = plt.subplots(1, config.batch_size, figsize=[12, 4])\n",
    "    # for ii, (i1, i2, t, d) in enumerate(zip(x1, x2, y, distance)):\n",
    "    #     axs[ii].imshow(torch.cat((i1, i2), dim=1).permute(1, 2, 0), cmap='gray')\n",
    "    #     axs[ii].set_title(\"D: {:.3f} Y:{:.1f}\".format(d.item(), t.item()))\n",
    "    # plt.show()\n",
    "    # plt.close()"
   ],
   "metadata": {
    "collapsed": false,
    "pycharm": {
     "name": "#%%\n"
    }
   }
  },
  {
   "cell_type": "code",
   "execution_count": 26,
   "outputs": [],
   "source": [
    "tprs = []\n",
    "fprs = []\n",
    "thresholds = np.array(list(range(480)))/100\n",
    "for i in range(480):\n",
    "    tpr, fpr = tpr_fpr(distances,y_true,i/100)\n",
    "    tprs.append(tpr)\n",
    "    fprs.append(fpr)"
   ],
   "metadata": {
    "collapsed": false,
    "pycharm": {
     "name": "#%%\n"
    }
   }
  },
  {
   "cell_type": "code",
   "execution_count": 24,
   "outputs": [
    {
     "data": {
      "text/plain": "<Figure size 432x288 with 1 Axes>",
      "image/png": "[encoded data removed]"
     },
     "metadata": {
      "needs_background": "light"
     },
     "output_type": "display_data"
    },
    {
     "data": {
      "text/plain": "1.19"
     },
     "execution_count": 24,
     "metadata": {},
     "output_type": "execute_result"
    }
   ],
   "source": [
    "plot_ROC(tprs,fprs,thresholds,model_name,'red')"
   ],
   "metadata": {
    "collapsed": false,
    "pycharm": {
     "name": "#%%\n"
    }
   }
  },
  {
   "cell_type": "code",
   "execution_count": null,
   "outputs": [],
   "source": [
    "wandb.finish()"
   ],
   "metadata": {
    "collapsed": false,
    "pycharm": {
     "name": "#%%\n"
    }
   }
  },
  {
   "cell_type": "markdown",
   "source": [
    "Try this shit with whole images"
   ],
   "metadata": {
    "collapsed": false,
    "pycharm": {
     "name": "#%% md\n"
    }
   }
  },
  {
   "cell_type": "code",
   "execution_count": null,
   "outputs": [],
   "source": [
    "pather = lambda x: os.path.join('data/test',x)\n",
    "files = list(map(pather, os.listdir('data/test')))\n",
    "\n",
    "class data:\n",
    "    def __init__(self,files):\n",
    "        self.samples = [np.array(np.transpose(np.expand_dims(cv2.imread(x, cv2.IMREAD_GRAYSCALE) / 255, axis=2),axes=[2,0,1]), dtype=np.float32) for x in files]\n",
    "    def get_samples(self,item):\n",
    "        return torch.from_numpy(np.expand_dims(self.samples[item], axis=0))\n",
    "\n",
    "whole_data = data(files)"
   ],
   "metadata": {
    "collapsed": false,
    "pycharm": {
     "name": "#%%\n"
    }
   }
  },
  {
   "cell_type": "code",
   "execution_count": null,
   "outputs": [],
   "source": [
    "for i,f in enumerate(files):\n",
    "    print(i,f)"
   ],
   "metadata": {
    "collapsed": false,
    "pycharm": {
     "name": "#%%\n"
    }
   }
  },
  {
   "cell_type": "code",
   "execution_count": 47,
   "outputs": [],
   "source": [
    "samples_predicted = []\n",
    "for i in range(len(whole_data.samples)):\n",
    "    all_samples = whole_data.get_samples(i)\n",
    "    # print(test_data.image_names[i])\n",
    "    embeddings = model.forward_branch(all_samples.to(device))\n",
    "    embeddings = torch.squeeze(embeddings)\n",
    "    samples_predicted.append(np.concatenate(([i],embeddings.to('cpu').detach().numpy()),axis=0))"
   ],
   "metadata": {
    "collapsed": false,
    "pycharm": {
     "name": "#%%\n"
    }
   }
  },
  {
   "cell_type": "code",
   "execution_count": null,
   "outputs": [],
   "source": [
    "fig = px.scatter_3d(np.array(samples_predicted)[:,1:4], x=0, y=1, z=2, color=np.array(samples_predicted)[:,0],\n",
    "                    title='Embeddings', labels={'0':'x','1':'y','2':'z'}, opacity=0.5)\n",
    "fig.show()"
   ],
   "metadata": {
    "collapsed": false,
    "pycharm": {
     "name": "#%%\n"
    }
   }
  },
  {
   "cell_type": "code",
   "execution_count": null,
   "outputs": [],
   "source": [],
   "metadata": {
    "collapsed": false,
    "pycharm": {
     "name": "#%%\n"
    }
   }
  }
 ],
 "metadata": {
  "kernelspec": {
   "display_name": "Python 3",
   "language": "python",
   "name": "python3"
  },
  "language_info": {
   "codemirror_mode": {
    "name": "ipython",
    "version": 2
   },
   "file_extension": ".py",
   "mimetype": "text/x-python",
   "name": "python",
   "nbconvert_exporter": "python",
   "pygments_lexer": "ipython2",
   "version": "2.7.6"
  }
 },
 "nbformat": 4,
 "nbformat_minor": 0
}